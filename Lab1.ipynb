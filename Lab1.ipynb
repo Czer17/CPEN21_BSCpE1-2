{
  "nbformat": 4,
  "nbformat_minor": 0,
  "metadata": {
    "colab": {
      "name": "Lab1.ipynb",
      "provenance": [],
      "authorship_tag": "ABX9TyMDqKZj3CTT9ontyTo/EBro",
      "include_colab_link": true
    },
    "kernelspec": {
      "name": "python3",
      "display_name": "Python 3"
    },
    "language_info": {
      "name": "python"
    }
  },
  "cells": [
    {
      "cell_type": "markdown",
      "metadata": {
        "id": "view-in-github",
        "colab_type": "text"
      },
      "source": [
        "<a href=\"https://colab.research.google.com/github/Czer17/CPEN21_BSCpE1-2/blob/main/Lab1.ipynb\" target=\"_parent\"><img src=\"https://colab.research.google.com/assets/colab-badge.svg\" alt=\"Open In Colab\"/></a>"
      ]
    },
    {
      "cell_type": "markdown",
      "metadata": {
        "id": "GJQ-axQP7jRw"
      },
      "source": [
        "#Laboratory 1"
      ]
    },
    {
      "cell_type": "code",
      "metadata": {
        "colab": {
          "base_uri": "https://localhost:8080/"
        },
        "id": "u-H6eW5m7gL7",
        "outputId": "1779753c-116e-4aaa-e8c5-8de77f5215bf"
      },
      "source": [
        "print(\"Welcome to Python Programming\")"
      ],
      "execution_count": 2,
      "outputs": [
        {
          "output_type": "stream",
          "name": "stdout",
          "text": [
            "Welcome to Python Programming\n"
          ]
        }
      ]
    },
    {
      "cell_type": "code",
      "metadata": {
        "colab": {
          "base_uri": "https://localhost:8080/"
        },
        "id": "KCxVDkMx7mi3",
        "outputId": "c43d62a1-752d-400d-9cf0-3679f578f0b5"
      },
      "source": [
        "print(\"Name: Czer Jhon Bautista\")\n",
        "print(\"Age: 18\")\n",
        "print(\"Address: Toclong, Kawit, Cavite\")"
      ],
      "execution_count": 1,
      "outputs": [
        {
          "output_type": "stream",
          "name": "stdout",
          "text": [
            "Name: Czer Jhon Bautista\n",
            "Age: 18\n",
            "Address: Toclong, Kawit, Cavite\n"
          ]
        }
      ]
    },
    {
      "cell_type": "code",
      "metadata": {
        "colab": {
          "base_uri": "https://localhost:8080/"
        },
        "id": "_WPlZHrX7peS",
        "outputId": "368c9ab7-0379-4af4-8868-6285733c7124"
      },
      "source": [
        "Name=\"CzerJhon Bautista\"\n",
        "Age = \"18\"\n",
        "Address=\"Toclong, Kawit, Cavite\"\n",
        "print(\"Name: \"+Name)\n",
        "print(\"Age: \" +Age)\n",
        "print(\"Address: \"+Address)"
      ],
      "execution_count": 3,
      "outputs": [
        {
          "output_type": "stream",
          "name": "stdout",
          "text": [
            "Name: CzerJhon Bautista\n",
            "Age: 18\n",
            "Address: Toclong, Kawit, Cavite\n"
          ]
        }
      ]
    },
    {
      "cell_type": "code",
      "metadata": {
        "colab": {
          "base_uri": "https://localhost:8080/"
        },
        "id": "nzk8tMXo7rjP",
        "outputId": "8f25c414-ca19-48e3-ebd5-9f14e73ca624"
      },
      "source": [
        "name=input()\n",
        "age=input()\n",
        "address=input()\n",
        "print(\"Name: \"+name)\n",
        "print(\"Age: \"+age)\n",
        "print(\"Address: \"+address)"
      ],
      "execution_count": 4,
      "outputs": [
        {
          "output_type": "stream",
          "name": "stdout",
          "text": [
            "Czer Jhon Bautista\n",
            "18\n",
            "Toclong, Kawit, Cavite\n",
            "Name: Czer Jhon Bautista\n",
            "Age: 18\n",
            "Address: Toclong, Kawit, Cavite\n"
          ]
        }
      ]
    }
  ]
}