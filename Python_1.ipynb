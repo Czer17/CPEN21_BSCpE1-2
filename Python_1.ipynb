{
  "nbformat": 4,
  "nbformat_minor": 0,
  "metadata": {
    "colab": {
      "name": "Python_1.ipynb",
      "provenance": [],
      "authorship_tag": "ABX9TyOgbKZy9WRtXj6/32cypAUT",
      "include_colab_link": true
    },
    "kernelspec": {
      "name": "python3",
      "display_name": "Python 3"
    },
    "language_info": {
      "name": "python"
    }
  },
  "cells": [
    {
      "cell_type": "markdown",
      "metadata": {
        "id": "view-in-github",
        "colab_type": "text"
      },
      "source": [
        "<a href=\"https://colab.research.google.com/github/Czer17/CPEN21_BSCpE1-2/blob/main/Python_1.ipynb\" target=\"_parent\"><img src=\"https://colab.research.google.com/assets/colab-badge.svg\" alt=\"Open In Colab\"/></a>"
      ]
    },
    {
      "cell_type": "markdown",
      "metadata": {
        "id": "ZWrhMO57EFFX"
      },
      "source": [
        "##Python Indentation"
      ]
    },
    {
      "cell_type": "code",
      "metadata": {
        "colab": {
          "base_uri": "https://localhost:8080/"
        },
        "id": "0fyipnjeEPx9",
        "outputId": "cd322ca8-a8bb-4405-ed26-db68038d3f5c"
      },
      "source": [
        "if 5 > 2:\n",
        "  print(\"Five is greater than Two\")"
      ],
      "execution_count": 40,
      "outputs": [
        {
          "output_type": "stream",
          "name": "stdout",
          "text": [
            "Five is greater than Two\n"
          ]
        }
      ]
    },
    {
      "cell_type": "markdown",
      "metadata": {
        "id": "CIpI19hVEo62"
      },
      "source": [
        "##Python Comments"
      ]
    },
    {
      "cell_type": "code",
      "metadata": {
        "colab": {
          "base_uri": "https://localhost:8080/"
        },
        "id": "jBdary4EEsYU",
        "outputId": "94d66def-e2df-417d-ccb6-bc9431d4fc3b"
      },
      "source": [
        "#This is a comment\n",
        "print(\"Hello, World!\")"
      ],
      "execution_count": 42,
      "outputs": [
        {
          "output_type": "stream",
          "name": "stdout",
          "text": [
            "Hello, World!\n"
          ]
        }
      ]
    },
    {
      "cell_type": "markdown",
      "metadata": {
        "id": "5KJSie8cE4Z1"
      },
      "source": [
        "##Variables"
      ]
    },
    {
      "cell_type": "code",
      "metadata": {
        "id": "BKKZk32pE6lg"
      },
      "source": [
        "#This is a string\n",
        "A=\"Number\"\n",
        "#This is an integer\n",
        "B=18\n",
        "#This is a true or false value\n",
        "is_number= True"
      ],
      "execution_count": 43,
      "outputs": []
    },
    {
      "cell_type": "markdown",
      "metadata": {
        "id": "oidr_Ck5FlPJ"
      },
      "source": [
        "##Casting"
      ]
    },
    {
      "cell_type": "code",
      "metadata": {
        "colab": {
          "base_uri": "https://localhost:8080/"
        },
        "id": "xpMs4BNpGNOd",
        "outputId": "c29c327d-62ae-4ac6-d470-73ea60d9be0c"
      },
      "source": [
        "A=int(4)\n",
        "print(A)\n",
        "B=float(4)\n",
        "print(B)"
      ],
      "execution_count": 55,
      "outputs": [
        {
          "output_type": "stream",
          "name": "stdout",
          "text": [
            "4\n",
            "4.0\n"
          ]
        }
      ]
    },
    {
      "cell_type": "markdown",
      "metadata": {
        "id": "7YHiMEHNHFgL"
      },
      "source": [
        "##Type () Functions"
      ]
    },
    {
      "cell_type": "code",
      "metadata": {
        "id": "a-j1GWquHIf6"
      },
      "source": [
        "A=\"Number\"\n",
        "print(type(A))\n",
        "B=18\n",
        "print(type(B))\n",
        "C= True\n",
        "print(type(C))"
      ],
      "execution_count": null,
      "outputs": []
    },
    {
      "cell_type": "markdown",
      "metadata": {
        "id": "bqRYMdcpHeoZ"
      },
      "source": [
        "###Either double quotes or single quotes can be use."
      ]
    },
    {
      "cell_type": "code",
      "metadata": {
        "id": "2iBPG_ASHpUL"
      },
      "source": [
        "Name=\"Czer\"\n",
        "Name_2=\"Sarah\""
      ],
      "execution_count": 56,
      "outputs": []
    },
    {
      "cell_type": "markdown",
      "metadata": {
        "id": "z7eFSqD3Hz7z"
      },
      "source": [
        "#Case sensitive"
      ]
    },
    {
      "cell_type": "code",
      "metadata": {
        "colab": {
          "base_uri": "https://localhost:8080/"
        },
        "id": "7aaiUP3iH3Q_",
        "outputId": "d1deac2a-a463-4495-f95c-920d2af0fe1d"
      },
      "source": [
        "A= \"Czer\"\n",
        "a= \"Sarah\"\n",
        "print(A)\n",
        "print(a)"
      ],
      "execution_count": 58,
      "outputs": [
        {
          "output_type": "stream",
          "name": "stdout",
          "text": [
            "Czer\n",
            "Sarah\n"
          ]
        }
      ]
    },
    {
      "cell_type": "markdown",
      "metadata": {
        "id": "Iw93uee4IHTQ"
      },
      "source": [
        "##Multiple Variables"
      ]
    },
    {
      "cell_type": "code",
      "metadata": {
        "colab": {
          "base_uri": "https://localhost:8080/"
        },
        "id": "GPzithW_IJ50",
        "outputId": "57294650-49bb-4843-818a-1e78059a610a"
      },
      "source": [
        "x,y,z = \"one\", \"two\", \"three\"\n",
        "print (x,y,z)"
      ],
      "execution_count": 62,
      "outputs": [
        {
          "output_type": "stream",
          "name": "stdout",
          "text": [
            "one two three\n"
          ]
        }
      ]
    },
    {
      "cell_type": "markdown",
      "metadata": {
        "id": "w2cEQHN8IZa4"
      },
      "source": [
        "##One to Multiple Variable"
      ]
    },
    {
      "cell_type": "code",
      "metadata": {
        "colab": {
          "base_uri": "https://localhost:8080/"
        },
        "id": "oYisYUf1IcOU",
        "outputId": "2e0c6d9e-6fc0-4392-df00-7029137e0f80"
      },
      "source": [
        "x=y=z=\"Four\"\n",
        "print(x,y,z)"
      ],
      "execution_count": 65,
      "outputs": [
        {
          "output_type": "stream",
          "name": "stdout",
          "text": [
            "Four Four Four\n"
          ]
        }
      ]
    },
    {
      "cell_type": "markdown",
      "metadata": {
        "id": "or1eea_aD0XE"
      },
      "source": [
        "##Output Variables"
      ]
    },
    {
      "cell_type": "code",
      "metadata": {
        "colab": {
          "base_uri": "https://localhost:8080/"
        },
        "id": "7UdUAvnEBUzz",
        "outputId": "2de11c90-3f7c-4d29-c940-ac5707bb27c0"
      },
      "source": [
        "Name=\"Czer\"\n",
        "Age = \"18\"\n",
        "print(\"My name is \"+ Name +\".\" )\n",
        "print(\"I am \" +Age +\".\")"
      ],
      "execution_count": 35,
      "outputs": [
        {
          "output_type": "stream",
          "name": "stdout",
          "text": [
            "My name is Czer.\n",
            "I am 18.\n"
          ]
        }
      ]
    },
    {
      "cell_type": "markdown",
      "metadata": {
        "id": "BR4XcJgiI7gH"
      },
      "source": [
        "##Arithmetic Operations"
      ]
    },
    {
      "cell_type": "code",
      "metadata": {
        "colab": {
          "base_uri": "https://localhost:8080/"
        },
        "id": "ysyQuzs_I-lI",
        "outputId": "1b93e058-1511-4a25-bf0b-9fec29d486c0"
      },
      "source": [
        "a=5\n",
        "b=6\n",
        "print(a+b)\n",
        "print(a-b)\n",
        "print(a*a)"
      ],
      "execution_count": 68,
      "outputs": [
        {
          "output_type": "stream",
          "name": "stdout",
          "text": [
            "11\n",
            "-1\n",
            "25\n"
          ]
        }
      ]
    },
    {
      "cell_type": "markdown",
      "metadata": {
        "id": "LxEce4hKJQyt"
      },
      "source": [
        "##Assignment Operators"
      ]
    },
    {
      "cell_type": "code",
      "metadata": {
        "colab": {
          "base_uri": "https://localhost:8080/"
        },
        "id": "C9qE4J0IJV3p",
        "outputId": "9999ecd5-8af5-4de7-8b0d-3ff9fd3d5d2e"
      },
      "source": [
        "x=5\n",
        "x+=5\n",
        "print(x)"
      ],
      "execution_count": 88,
      "outputs": [
        {
          "output_type": "stream",
          "name": "stdout",
          "text": [
            "10\n"
          ]
        }
      ]
    },
    {
      "cell_type": "markdown",
      "metadata": {
        "id": "WrQarubEJzAy"
      },
      "source": [
        "##Comparison Operators"
      ]
    },
    {
      "cell_type": "code",
      "metadata": {
        "colab": {
          "base_uri": "https://localhost:8080/"
        },
        "id": "lubPYSxhJ2fb",
        "outputId": "cf47f3f3-6dfc-4bd7-c7bc-00397169fa5e"
      },
      "source": [
        "a,b,c=4,5,8\n",
        "print(a<b)\n",
        "print(c==c)"
      ],
      "execution_count": 75,
      "outputs": [
        {
          "output_type": "stream",
          "name": "stdout",
          "text": [
            "True\n",
            "True\n"
          ]
        }
      ]
    },
    {
      "cell_type": "markdown",
      "metadata": {
        "id": "Bx9BpISIKiop"
      },
      "source": [
        "##Logical Operator"
      ]
    },
    {
      "cell_type": "code",
      "metadata": {
        "colab": {
          "base_uri": "https://localhost:8080/"
        },
        "id": "PYF07IVrKk7e",
        "outputId": "cd3dde4f-7742-42f7-8a86-efc3eb888cd2"
      },
      "source": [
        "a,b,c=4,5,8\n",
        "print(a<b and c==c)\n",
        "print(not(c==c))\n",
        "print(a>b or b<c)"
      ],
      "execution_count": 82,
      "outputs": [
        {
          "output_type": "stream",
          "name": "stdout",
          "text": [
            "True\n",
            "False\n",
            "True\n"
          ]
        }
      ]
    },
    {
      "cell_type": "markdown",
      "metadata": {
        "id": "7D_Xak58KOOz"
      },
      "source": [
        "##Identity Operator"
      ]
    },
    {
      "cell_type": "code",
      "metadata": {
        "colab": {
          "base_uri": "https://localhost:8080/"
        },
        "id": "ghStfB_KKRFU",
        "outputId": "7b21c4e0-47c6-49cc-f9a2-de8b8d7b331e"
      },
      "source": [
        "a,b,c=4,5,8\n",
        "print(a is not b)\n",
        "print(c is c)"
      ],
      "execution_count": 76,
      "outputs": [
        {
          "output_type": "stream",
          "name": "stdout",
          "text": [
            "True\n",
            "True\n"
          ]
        }
      ]
    }
  ]
}